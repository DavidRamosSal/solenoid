{
 "cells": [
  {
   "cell_type": "code",
   "execution_count": 1,
   "metadata": {
    "collapsed": true
   },
   "outputs": [],
   "source": [
    "%display latex"
   ]
  },
  {
   "cell_type": "code",
   "execution_count": 2,
   "metadata": {
    "collapsed": false
   },
   "outputs": [
    {
     "data": {
      "text/html": [
       "<html><script type=\"math/tex; mode=display\">\\newcommand{\\Bold}[1]{\\mathbf{#1}}\\left(B_{b}, B_{0}, \\beta, \\rho, z, r, \\theta\\right)</script></html>"
      ],
      "text/plain": [
       "(B_b, B_0, beta, rho, z, r, theta)"
      ]
     },
     "execution_count": 2,
     "metadata": {},
     "output_type": "execute_result"
    }
   ],
   "source": [
    "var('B_b B_0 beta rho z r theta')"
   ]
  },
  {
   "cell_type": "code",
   "execution_count": 3,
   "metadata": {
    "collapsed": true
   },
   "outputs": [],
   "source": [
    "Bz1=B_b+(B_0)*(1-beta*z)^(1/2)"
   ]
  },
  {
   "cell_type": "code",
   "execution_count": 4,
   "metadata": {
    "collapsed": false
   },
   "outputs": [],
   "source": [
    "phiz=-Bz1.integral(z)"
   ]
  },
  {
   "cell_type": "code",
   "execution_count": 5,
   "metadata": {
    "collapsed": true
   },
   "outputs": [],
   "source": [
    "phizt=phiz.taylor(z,0,75)"
   ]
  },
  {
   "cell_type": "code",
   "execution_count": 6,
   "metadata": {
    "collapsed": false
   },
   "outputs": [],
   "source": [
    "Phi=sum(r^(k)*legendre_P(k,cos(theta))*phizt.coefficient(z,k) for k in [0..72])"
   ]
  },
  {
   "cell_type": "code",
   "execution_count": 7,
   "metadata": {
    "collapsed": true
   },
   "outputs": [],
   "source": [
    "Br=-derivative(Phi,r) \n",
    "Bth=-((1/r)*derivative(Phi,theta))"
   ]
  },
  {
   "cell_type": "code",
   "execution_count": 8,
   "metadata": {
    "collapsed": true
   },
   "outputs": [],
   "source": [
    "Brho=Br*sin(theta)+Bth*cos(theta)\n",
    "Bz=Br*cos(theta)-Bth*sin(theta)"
   ]
  },
  {
   "cell_type": "code",
   "execution_count": 9,
   "metadata": {
    "collapsed": true
   },
   "outputs": [],
   "source": [
    "Brho=Brho(r=sqrt(rho^2+z^2),theta=arctan(rho/z)) \n",
    "Bz=Bz(r=sqrt(rho^2+z^2),theta=arctan(rho/z))"
   ]
  },
  {
   "cell_type": "code",
   "execution_count": 10,
   "metadata": {
    "collapsed": false
   },
   "outputs": [],
   "source": [
    "from sage.ext.fast_eval import fast_float\n",
    "Brho_num=fast_float(Brho,'B_b','B_0', 'beta','rho','z',old=True)\n",
    "Bz_num=fast_float(Bz,'B_b','B_0', 'beta', 'rho','z',old=True)"
   ]
  },
  {
   "cell_type": "code",
   "execution_count": 11,
   "metadata": {
    "collapsed": true
   },
   "outputs": [],
   "source": [
    "import numpy as np\n",
    "z_vals=np.arange(0,1.4,0.001)"
   ]
  },
  {
   "cell_type": "code",
   "execution_count": 21,
   "metadata": {
    "collapsed": false
   },
   "outputs": [],
   "source": [
    "Brho_f=[Brho_num(27.6,132.8,0.544,0,z) for z in z_vals]\n",
    "Bz_f=[Bz_num(27.6,132.8,0.544,0,z) for z in z_vals]"
   ]
  },
  {
   "cell_type": "code",
   "execution_count": 22,
   "metadata": {
    "collapsed": true
   },
   "outputs": [],
   "source": [
    "import pylab as plt"
   ]
  },
  {
   "cell_type": "code",
   "execution_count": 24,
   "metadata": {
    "collapsed": false
   },
   "outputs": [
    {
     "data": {
      "image/png": "[encoded data removed]",
      "text/plain": [
       "<matplotlib.figure.Figure object at 0x7f239d99d450>"
      ]
     },
     "metadata": {},
     "output_type": "display_data"
    }
   ],
   "source": [
    "plt.rc('axes', labelsize=20)\n",
    "plt.rc('xtick', labelsize=8)\n",
    "plt.rc('ytick', labelsize=8)\n",
    "\n",
    "\n",
    "plt.plot(z_vals,Bz_f,color='red')\n",
    "plt.xlabel(r'$z$ [m]')\n",
    "#plt.xlim((0.2, 1.3))\n",
    "plt.ylabel(r'$B_z/\\mu_{0}$ ')\n",
    "#plt.ylim((0, 130))\n",
    "plt.savefig('B_z ZC2.png', format='png', dpi=1000)\n",
    "plt.show()"
   ]
  },
  {
   "cell_type": "code",
   "execution_count": null,
   "metadata": {
    "collapsed": true
   },
   "outputs": [],
   "source": []
  }
 ],
 "metadata": {
  "kernelspec": {
   "display_name": "SageMath 8.1",
   "language": "",
   "name": "sagemath"
  },
  "language_info": {
   "codemirror_mode": {
    "name": "ipython",
    "version": 2
   },
   "file_extension": ".py",
   "mimetype": "text/x-python",
   "name": "python",
   "nbconvert_exporter": "python",
   "pygments_lexer": "ipython2",
   "version": "2.7.14"
  }
 },
 "nbformat": 4,
 "nbformat_minor": 2
}
