{
 "cells": [
  {
   "cell_type": "code",
   "execution_count": 1,
   "metadata": {
    "collapsed": true,
    "deletable": true,
    "editable": true
   },
   "outputs": [],
   "source": [
    "%display latex"
   ]
  },
  {
   "cell_type": "markdown",
   "metadata": {
    "deletable": true,
    "editable": true
   },
   "source": [
    "Intentando hacerlo desde cero"
   ]
  },
  {
   "cell_type": "code",
   "execution_count": 2,
   "metadata": {
    "collapsed": false,
    "deletable": true,
    "editable": true
   },
   "outputs": [
    {
     "data": {
      "text/html": [
       "<html><script type=\"math/tex; mode=display\">\\newcommand{\\Bold}[1]{\\mathbf{#1}}\\left(B_{b}, B_{0}, \\beta, \\rho, z, r, \\theta\\right)</script></html>"
      ],
      "text/plain": [
       "(B_b, B_0, beta, rho, z, r, theta)"
      ]
     },
     "execution_count": 2,
     "metadata": {},
     "output_type": "execute_result"
    }
   ],
   "source": [
    "var('B_b B_0 beta rho z r theta')"
   ]
  },
  {
   "cell_type": "code",
   "execution_count": 3,
   "metadata": {
    "collapsed": true,
    "deletable": true,
    "editable": true
   },
   "outputs": [],
   "source": [
    "Bz1=B_b+(B_0)*(1-beta*z)^(1/2)"
   ]
  },
  {
   "cell_type": "code",
   "execution_count": 4,
   "metadata": {
    "collapsed": false,
    "deletable": true,
    "editable": true
   },
   "outputs": [],
   "source": [
    "phiz=-Bz1.integral(z)"
   ]
  },
  {
   "cell_type": "code",
   "execution_count": 5,
   "metadata": {
    "collapsed": true,
    "deletable": true,
    "editable": true
   },
   "outputs": [],
   "source": [
    "phizt=phiz.taylor(z,0,105)"
   ]
  },
  {
   "cell_type": "code",
   "execution_count": 6,
   "metadata": {
    "collapsed": false,
    "deletable": true,
    "editable": true
   },
   "outputs": [],
   "source": [
    "Phi=sum(r^(k)*legendre_P(k,cos(theta))*phizt.coefficient(z,k) for k in [0..46])"
   ]
  },
  {
   "cell_type": "code",
   "execution_count": 7,
   "metadata": {
    "collapsed": false,
    "deletable": true,
    "editable": true
   },
   "outputs": [],
   "source": [
    "Br=-derivative(Phi,r) \n",
    "Bth=-((1/r)*derivative(Phi,theta))"
   ]
  },
  {
   "cell_type": "code",
   "execution_count": 8,
   "metadata": {
    "collapsed": true,
    "deletable": true,
    "editable": true
   },
   "outputs": [],
   "source": [
    "Brho=Br*sin(theta)+Bth*cos(theta)\n",
    "Bz=Br*cos(theta)-Bth*sin(theta)"
   ]
  },
  {
   "cell_type": "code",
   "execution_count": 9,
   "metadata": {
    "collapsed": true,
    "deletable": true,
    "editable": true
   },
   "outputs": [],
   "source": [
    "Brho=Brho(r=sqrt(rho^2+z^2),theta=arctan(rho/z)) \n",
    "Bz=Bz(r=sqrt(rho^2+z^2),theta=arctan(rho/z))"
   ]
  },
  {
   "cell_type": "code",
   "execution_count": 10,
   "metadata": {
    "collapsed": false,
    "deletable": true,
    "editable": true
   },
   "outputs": [],
   "source": [
    "from sage.ext.fast_eval import fast_float\n",
    "Brho_num=fast_float(Brho,'B_b','B_0', 'beta','rho','z',old=True)\n",
    "Bz_num=fast_float(Bz,'B_b','B_0', 'beta', 'rho','z',old=True)"
   ]
  },
  {
   "cell_type": "code",
   "execution_count": 11,
   "metadata": {
    "collapsed": true,
    "deletable": true,
    "editable": true
   },
   "outputs": [],
   "source": [
    "import numpy as np\n",
    "z_vals=np.arange(0,2,0.001)"
   ]
  },
  {
   "cell_type": "markdown",
   "metadata": {
    "deletable": true,
    "editable": true
   },
   "source": [
    "Los datos fueron extraidos del artículo usando (qué software??) y ajustados usando Matlab para hallar:\n",
    "$$ B_{b}=11.5\\, [mA] \\quad, \\quad B_0=126.4 \\,[mA] \\quad, \\quad \\beta=0.7685 \\, [m^{-1}] $$\n",
    "y según el artículo $\\rho=0.025\\,[m]$"
   ]
  },
  {
   "cell_type": "code",
   "execution_count": 12,
   "metadata": {
    "collapsed": false,
    "deletable": true,
    "editable": true
   },
   "outputs": [],
   "source": [
    "Brho_f=[Brho_num(11.5,126.4,0.7685,0.025,i) for i in z_vals]\n",
    "Bz_f=[Bz_num(11.5,126.4,0.7685,0,i) for i in z_vals]"
   ]
  },
  {
   "cell_type": "code",
   "execution_count": 13,
   "metadata": {
    "collapsed": false,
    "deletable": true,
    "editable": true
   },
   "outputs": [],
   "source": [
    "import pylab as plt\n",
    "import pandas as pd\n",
    "import numpy as np"
   ]
  },
  {
   "cell_type": "markdown",
   "metadata": {
    "deletable": true,
    "editable": true
   },
   "source": [
    "# Para $B_{z}$"
   ]
  },
  {
   "cell_type": "code",
   "execution_count": 14,
   "metadata": {
    "collapsed": false,
    "deletable": true,
    "editable": true
   },
   "outputs": [
    {
     "data": {
      "text/html": [
       "<html><script type=\"math/tex; mode=display\">\\newcommand{\\Bold}[1]{\\mathbf{#1}}\\begin{array}{l}\n",
       "\\phantom{\\verb!xxxxxxxxxx!}\\verb|Z|\\phantom{\\verb!xxxxxxx!}\\verb|BZ|\\\\\n",
       "\\verb|0|\\phantom{\\verb!xxxx!}\\verb|20.001|\\phantom{\\verb!xx!}\\verb|120.065|\\\\\n",
       "\\verb|1|\\phantom{\\verb!xxxx!}\\verb|22.500|\\phantom{\\verb!xx!}\\verb|120.191|\\\\\n",
       "\\verb|2|\\phantom{\\verb!xxxx!}\\verb|25.095|\\phantom{\\verb!xx!}\\verb|120.285|\\\\\n",
       "\\verb|3|\\phantom{\\verb!xxxx!}\\verb|27.483|\\phantom{\\verb!xx!}\\verb|119.442|\\\\\n",
       "\\verb|4|\\phantom{\\verb!xxxx!}\\verb|29.967|\\phantom{\\verb!xx!}\\verb|118.850|\\\\\n",
       "\\verb|5|\\phantom{\\verb!xxxx!}\\verb|32.546|\\phantom{\\verb!xx!}\\verb|118.319|\\\\\n",
       "\\verb|6|\\phantom{\\verb!xxxx!}\\verb|34.871|\\phantom{\\verb!xx!}\\verb|117.258|\\\\\n",
       "\\verb|7|\\phantom{\\verb!xxxx!}\\verb|37.546|\\phantom{\\verb!xx!}\\verb|116.447|\\\\\n",
       "\\verb|8|\\phantom{\\verb!xxxx!}\\verb|40.014|\\phantom{\\verb!xx!}\\verb|115.198|\\\\\n",
       "\\verb|9|\\phantom{\\verb!xxxx!}\\verb|42.545|\\phantom{\\verb!xx!}\\verb|114.043|\\\\\n",
       "\\verb|10|\\phantom{\\verb!xxx!}\\verb|45.013|\\phantom{\\verb!xx!}\\verb|112.732|\\\\\n",
       "\\verb|11|\\phantom{\\verb!xxx!}\\verb|47.497|\\phantom{\\verb!xx!}\\verb|111.639|\\\\\n",
       "\\verb|12|\\phantom{\\verb!xxx!}\\verb|50.029|\\phantom{\\verb!xx!}\\verb|110.235|\\\\\n",
       "\\verb|13|\\phantom{\\verb!xxx!}\\verb|52.417|\\phantom{\\verb!xx!}\\verb|108.830|\\\\\n",
       "\\verb|14|\\phantom{\\verb!xxx!}\\verb|54.901|\\phantom{\\verb!xx!}\\verb|107.394|\\\\\n",
       "\\verb|15|\\phantom{\\verb!xxx!}\\verb|57.416|\\phantom{\\verb!xx!}\\verb|106.082|\\\\\n",
       "\\verb|16|\\phantom{\\verb!xxx!}\\verb|59.900|\\phantom{\\verb!xx!}\\verb|104.521|\\\\\n",
       "\\verb|17|\\phantom{\\verb!xxx!}\\verb|62.416|\\phantom{\\verb!xx!}\\verb|102.773|\\\\\n",
       "\\verb|18|\\phantom{\\verb!xxx!}\\verb|65.011|\\phantom{\\verb!xx!}\\verb|101.368|\\\\\n",
       "\\verb|19|\\phantom{\\verb!xxx!}\\verb|67.511|\\phantom{\\verb!xxx!}\\verb|99.776|\\\\\n",
       "\\verb|20|\\phantom{\\verb!xxx!}\\verb|69.931|\\phantom{\\verb!xxx!}\\verb|98.090|\\\\\n",
       "\\verb|21|\\phantom{\\verb!xxx!}\\verb|72.511|\\phantom{\\verb!xxx!}\\verb|96.404|\\\\\n",
       "\\verb|22|\\phantom{\\verb!xxx!}\\verb|74.963|\\phantom{\\verb!xxx!}\\verb|94.531|\\\\\n",
       "\\verb|23|\\phantom{\\verb!xxx!}\\verb|77.542|\\phantom{\\verb!xxx!}\\verb|92.720|\\\\\n",
       "\\verb|24|\\phantom{\\verb!xxx!}\\verb|79.994|\\phantom{\\verb!xxx!}\\verb|90.940|\\\\\n",
       "\\verb|25|\\phantom{\\verb!xxx!}\\verb|82.478|\\phantom{\\verb!xxx!}\\verb|88.942|\\\\\n",
       "\\verb|26|\\phantom{\\verb!xxx!}\\verb|84.994|\\phantom{\\verb!xxx!}\\verb|86.944|\\\\\n",
       "\\verb|27|\\phantom{\\verb!xxx!}\\verb|87.541|\\phantom{\\verb!xxx!}\\verb|84.852|\\\\\n",
       "\\verb|28|\\phantom{\\verb!xxx!}\\verb|90.009|\\phantom{\\verb!xxx!}\\verb|82.478|\\\\\n",
       "\\verb|29|\\phantom{\\verb!xxx!}\\verb|92.509|\\phantom{\\verb!xxx!}\\verb|80.230|\\\\\n",
       "\\verb|30|\\phantom{\\verb!xxx!}\\verb|94.993|\\phantom{\\verb!xxx!}\\verb|78.045|\\\\\n",
       "\\verb|31|\\phantom{\\verb!xxx!}\\verb|97.445|\\phantom{\\verb!xxx!}\\verb|75.422|\\\\\n",
       "\\verb|32|\\phantom{\\verb!xx!}\\verb|100.009|\\phantom{\\verb!xxx!}\\verb|72.549|\\\\\n",
       "\\verb|33|\\phantom{\\verb!xx!}\\verb|102.604|\\phantom{\\verb!xxx!}\\verb|69.895|\\\\\n",
       "\\verb|34|\\phantom{\\verb!xx!}\\verb|104.977|\\phantom{\\verb!xxx!}\\verb|67.365|\\\\\n",
       "\\verb|35|\\phantom{\\verb!xx!}\\verb|107.445|\\phantom{\\verb!xxx!}\\verb|63.930|\\\\\n",
       "\\verb|36|\\phantom{\\verb!xx!}\\verb|110.009|\\phantom{\\verb!xxx!}\\verb|60.370|\\\\\n",
       "\\verb|37|\\phantom{\\verb!xx!}\\verb|112.509|\\phantom{\\verb!xxx!}\\verb|56.373|\\\\\n",
       "\\verb|38|\\phantom{\\verb!xx!}\\verb|115.057|\\phantom{\\verb!xxx!}\\verb|52.219|\\\\\n",
       "\\verb|39|\\phantom{\\verb!xx!}\\verb|117.541|\\phantom{\\verb!xxx!}\\verb|47.035|\\\\\n",
       "\\verb|40|\\phantom{\\verb!xx!}\\verb|120.105|\\phantom{\\verb!xxx!}\\verb|40.445|\\\\\n",
       "\\verb|41|\\phantom{\\verb!xx!}\\verb|122.542|\\phantom{\\verb!xxx!}\\verb|31.701|\\\\\n",
       "\\verb|42|\\phantom{\\verb!xx!}\\verb|125.107|\\phantom{\\verb!xxx!}\\verb|19.863|\\\\\n",
       "\\verb|43|\\phantom{\\verb!xx!}\\verb|127.560|\\phantom{\\verb!xxx!}\\verb|11.212|\\\\\n",
       "\\verb|44|\\phantom{\\verb!xx!}\\verb|130.060|\\phantom{\\verb!xxxx!}\\verb|7.027|\n",
       "\\end{array}</script></html>"
      ],
      "text/plain": [
       "          Z       BZ\n",
       "0    20.001  120.065\n",
       "1    22.500  120.191\n",
       "2    25.095  120.285\n",
       "3    27.483  119.442\n",
       "4    29.967  118.850\n",
       "5    32.546  118.319\n",
       "6    34.871  117.258\n",
       "7    37.546  116.447\n",
       "8    40.014  115.198\n",
       "9    42.545  114.043\n",
       "10   45.013  112.732\n",
       "11   47.497  111.639\n",
       "12   50.029  110.235\n",
       "13   52.417  108.830\n",
       "14   54.901  107.394\n",
       "15   57.416  106.082\n",
       "16   59.900  104.521\n",
       "17   62.416  102.773\n",
       "18   65.011  101.368\n",
       "19   67.511   99.776\n",
       "20   69.931   98.090\n",
       "21   72.511   96.404\n",
       "22   74.963   94.531\n",
       "23   77.542   92.720\n",
       "24   79.994   90.940\n",
       "25   82.478   88.942\n",
       "26   84.994   86.944\n",
       "27   87.541   84.852\n",
       "28   90.009   82.478\n",
       "29   92.509   80.230\n",
       "30   94.993   78.045\n",
       "31   97.445   75.422\n",
       "32  100.009   72.549\n",
       "33  102.604   69.895\n",
       "34  104.977   67.365\n",
       "35  107.445   63.930\n",
       "36  110.009   60.370\n",
       "37  112.509   56.373\n",
       "38  115.057   52.219\n",
       "39  117.541   47.035\n",
       "40  120.105   40.445\n",
       "41  122.542   31.701\n",
       "42  125.107   19.863\n",
       "43  127.560   11.212\n",
       "44  130.060    7.027"
      ]
     },
     "execution_count": 14,
     "metadata": {},
     "output_type": "execute_result"
    }
   ],
   "source": [
    "data = pd.read_csv('datosZ1.csv')\n",
    "data"
   ]
  },
  {
   "cell_type": "code",
   "execution_count": 15,
   "metadata": {
    "collapsed": false,
    "deletable": true,
    "editable": true
   },
   "outputs": [],
   "source": [
    "zd = data.Z.tolist()\n",
    "zd = np.array(zd)\n",
    "\n",
    "Bzd = data.BZ.tolist()\n",
    "Bzd= np.array(Bzd)"
   ]
  },
  {
   "cell_type": "code",
   "execution_count": 16,
   "metadata": {
    "collapsed": false,
    "deletable": true,
    "editable": true,
    "scrolled": false
   },
   "outputs": [
    {
     "data": {
      "image/png": "[encoded data removed]",
      "text/plain": [
       "<matplotlib.figure.Figure object at 0x7f53d4802f90>"
      ]
     },
     "metadata": {},
     "output_type": "display_data"
    }
   ],
   "source": [
    "plt.rc('axes', labelsize=20)\n",
    "plt.rc('xtick', labelsize=8)\n",
    "plt.rc('ytick', labelsize=8)\n",
    "\n",
    "fig=plt.figure()\n",
    "ax = fig.add_subplot(1, 1, 1)\n",
    "\n",
    "plt.plot(zd*0.01,Bzd,marker='o',markersize=3,label='Datos experimentales',linestyle='')\n",
    "plt.plot(z_vals,Bz_f,color='red',linewidth=1.2,label=\"Aproximaci\" u\"ón\")\n",
    "plt.xlabel(r'$z$ [m]')\n",
    "plt.xlim((0.2, 1.4))\n",
    "plt.ylabel(r'$B_z$ [mT] ')\n",
    "plt.ylim((0, 130))\n",
    "plt.legend()\n",
    "plt.savefig('Bz_ZC.png', format='png', dpi=1000)\n",
    "plt.show()"
   ]
  },
  {
   "cell_type": "markdown",
   "metadata": {
    "deletable": true,
    "editable": true
   },
   "source": [
    "# Para $B_{\\rho}$"
   ]
  },
  {
   "cell_type": "code",
   "execution_count": 18,
   "metadata": {
    "collapsed": false,
    "deletable": true,
    "editable": true
   },
   "outputs": [
    {
     "data": {
      "text/html": [
       "<html><script type=\"math/tex; mode=display\">\\newcommand{\\Bold}[1]{\\mathbf{#1}}\\begin{array}{l}\n",
       "\\phantom{\\verb!xxxxxxxxxx!}\\verb|Z|\\phantom{\\verb!xxxx!}\\verb|BRHO|\\\\\n",
       "\\verb|0|\\phantom{\\verb!xxxx!}\\verb|39.960|\\phantom{\\verb!xx!}\\verb|0.5474|\\\\\n",
       "\\verb|1|\\phantom{\\verb!xxxx!}\\verb|42.464|\\phantom{\\verb!xx!}\\verb|0.5935|\\\\\n",
       "\\verb|2|\\phantom{\\verb!xxxx!}\\verb|45.005|\\phantom{\\verb!xx!}\\verb|0.6302|\\\\\n",
       "\\verb|3|\\phantom{\\verb!xxxx!}\\verb|47.457|\\phantom{\\verb!xx!}\\verb|0.6532|\\\\\n",
       "\\verb|4|\\phantom{\\verb!xxxx!}\\verb|49.962|\\phantom{\\verb!xx!}\\verb|0.6804|\\\\\n",
       "\\verb|5|\\phantom{\\verb!xxxx!}\\verb|52.467|\\phantom{\\verb!xx!}\\verb|0.7075|\\\\\n",
       "\\verb|6|\\phantom{\\verb!xxxx!}\\verb|54.972|\\phantom{\\verb!xx!}\\verb|0.7333|\\\\\n",
       "\\verb|7|\\phantom{\\verb!xxxx!}\\verb|57.477|\\phantom{\\verb!xx!}\\verb|0.7455|\\\\\n",
       "\\verb|8|\\phantom{\\verb!xxxx!}\\verb|59.946|\\phantom{\\verb!xx!}\\verb|0.7645|\\\\\n",
       "\\verb|9|\\phantom{\\verb!xxxx!}\\verb|62.433|\\phantom{\\verb!xx!}\\verb|0.7808|\\\\\n",
       "\\verb|10|\\phantom{\\verb!xxx!}\\verb|65.010|\\phantom{\\verb!xx!}\\verb|0.8053|\\\\\n",
       "\\verb|11|\\phantom{\\verb!xxx!}\\verb|67.479|\\phantom{\\verb!xx!}\\verb|0.8202|\\\\\n",
       "\\verb|12|\\phantom{\\verb!xxx!}\\verb|69.913|\\phantom{\\verb!xx!}\\verb|0.8392|\\\\\n",
       "\\verb|13|\\phantom{\\verb!xxx!}\\verb|72.400|\\phantom{\\verb!xx!}\\verb|0.8610|\\\\\n",
       "\\verb|14|\\phantom{\\verb!xxx!}\\verb|74.941|\\phantom{\\verb!xx!}\\verb|0.9003|\\\\\n",
       "\\verb|15|\\phantom{\\verb!xxx!}\\verb|77.606|\\phantom{\\verb!xx!}\\verb|0.9288|\\\\\n",
       "\\verb|16|\\phantom{\\verb!xxx!}\\verb|79.933|\\phantom{\\verb!xx!}\\verb|0.9654|\\\\\n",
       "\\verb|17|\\phantom{\\verb!xxx!}\\verb|82.473|\\phantom{\\verb!xx!}\\verb|1.0020|\\\\\n",
       "\\verb|18|\\phantom{\\verb!xxx!}\\verb|84.978|\\phantom{\\verb!xx!}\\verb|1.0346|\\\\\n",
       "\\verb|19|\\phantom{\\verb!xxx!}\\verb|87.536|\\phantom{\\verb!xx!}\\verb|1.0834|\\\\\n",
       "\\verb|20|\\phantom{\\verb!xxx!}\\verb|90.077|\\phantom{\\verb!xx!}\\verb|1.1241|\\\\\n",
       "\\verb|21|\\phantom{\\verb!xxx!}\\verb|92.493|\\phantom{\\verb!xx!}\\verb|1.1756|\\\\\n",
       "\\verb|22|\\phantom{\\verb!xxx!}\\verb|94.926|\\phantom{\\verb!xx!}\\verb|1.2326|\\\\\n",
       "\\verb|23|\\phantom{\\verb!xxx!}\\verb|97.538|\\phantom{\\verb!xx!}\\verb|1.2909|\\\\\n",
       "\\verb|24|\\phantom{\\verb!xxx!}\\verb|99.918|\\phantom{\\verb!xx!}\\verb|1.3573|\\\\\n",
       "\\verb|25|\\phantom{\\verb!xx!}\\verb|102.405|\\phantom{\\verb!xx!}\\verb|1.4346|\\\\\n",
       "\\verb|26|\\phantom{\\verb!xx!}\\verb|104.962|\\phantom{\\verb!xx!}\\verb|1.5349|\\\\\n",
       "\\verb|27|\\phantom{\\verb!xx!}\\verb|107.395|\\phantom{\\verb!xx!}\\verb|1.6569|\\\\\n",
       "\\verb|28|\\phantom{\\verb!xx!}\\verb|109.952|\\phantom{\\verb!xx!}\\verb|1.8250|\\\\\n",
       "\\verb|29|\\phantom{\\verb!xx!}\\verb|112.438|\\phantom{\\verb!xx!}\\verb|2.0608|\\\\\n",
       "\\verb|30|\\phantom{\\verb!xx!}\\verb|114.940|\\phantom{\\verb!xx!}\\verb|2.3955|\\\\\n",
       "\\verb|31|\\phantom{\\verb!xx!}\\verb|117.405|\\phantom{\\verb!xx!}\\verb|2.9254|\\\\\n",
       "\\verb|32|\\phantom{\\verb!xx!}\\verb|119.974|\\phantom{\\verb!xx!}\\verb|3.7926|\n",
       "\\end{array}</script></html>"
      ],
      "text/plain": [
       "          Z    BRHO\n",
       "0    39.960  0.5474\n",
       "1    42.464  0.5935\n",
       "2    45.005  0.6302\n",
       "3    47.457  0.6532\n",
       "4    49.962  0.6804\n",
       "5    52.467  0.7075\n",
       "6    54.972  0.7333\n",
       "7    57.477  0.7455\n",
       "8    59.946  0.7645\n",
       "9    62.433  0.7808\n",
       "10   65.010  0.8053\n",
       "11   67.479  0.8202\n",
       "12   69.913  0.8392\n",
       "13   72.400  0.8610\n",
       "14   74.941  0.9003\n",
       "15   77.606  0.9288\n",
       "16   79.933  0.9654\n",
       "17   82.473  1.0020\n",
       "18   84.978  1.0346\n",
       "19   87.536  1.0834\n",
       "20   90.077  1.1241\n",
       "21   92.493  1.1756\n",
       "22   94.926  1.2326\n",
       "23   97.538  1.2909\n",
       "24   99.918  1.3573\n",
       "25  102.405  1.4346\n",
       "26  104.962  1.5349\n",
       "27  107.395  1.6569\n",
       "28  109.952  1.8250\n",
       "29  112.438  2.0608\n",
       "30  114.940  2.3955\n",
       "31  117.405  2.9254\n",
       "32  119.974  3.7926"
      ]
     },
     "execution_count": 18,
     "metadata": {},
     "output_type": "execute_result"
    }
   ],
   "source": [
    "data1 = pd.read_csv('datosRHO2.csv')\n",
    "data1"
   ]
  },
  {
   "cell_type": "code",
   "execution_count": 19,
   "metadata": {
    "collapsed": false,
    "deletable": true,
    "editable": true
   },
   "outputs": [
    {
     "data": {
      "image/png": "[encoded data removed]",
      "text/plain": [
       "<matplotlib.figure.Figure object at 0x7f53cc975210>"
      ]
     },
     "metadata": {},
     "output_type": "display_data"
    }
   ],
   "source": [
    "zd2 = data1.Z.tolist()\n",
    "zd2 = np.array(zd2)\n",
    "\n",
    "Brhod = data1.BRHO.tolist()\n",
    "Brhod= np.array(Brhod)\n",
    "\n",
    "plt.rc('axes', labelsize=20)\n",
    "plt.rc('xtick', labelsize=8)\n",
    "plt.rc('ytick', labelsize=8)\n",
    "\n",
    "fig=plt.figure()\n",
    "ax = fig.add_subplot(1, 1, 1)\n",
    "\n",
    "plt.plot(zd2*0.01,Brhod,marker='o',markersize=3,label='Datos experimentales', linestyle='')\n",
    "plt.plot(z_vals,Brho_f,color='red',label=\"Aproximaci\"u\"ón\",linewidth=1.2)\n",
    "\n",
    "plt.xlabel(r'$z$ [m]')\n",
    "plt.xlim((0.38, 1.22))\n",
    "plt.ylabel(r'$B_{\\rho}$ [mT]')\n",
    "plt.ylim((0, 4))\n",
    "plt.legend(loc=2)\n",
    "plt.savefig('Brho_ZC.png', format='png', dpi=1000)\n",
    "plt.show()"
   ]
  },
  {
   "cell_type": "markdown",
   "metadata": {
    "deletable": true,
    "editable": true
   },
   "source": [
    "#"
   ]
  },
  {
   "cell_type": "markdown",
   "metadata": {
    "collapsed": true,
    "deletable": true,
    "editable": true
   },
   "source": [
    "# Usando la expresión analítica derivada en el artículo (ya no es necesario). Se deja la comparación para un futuro"
   ]
  },
  {
   "cell_type": "code",
   "execution_count": null,
   "metadata": {
    "collapsed": true,
    "deletable": true,
    "editable": true
   },
   "outputs": [],
   "source": [
    "import numpy as np\n",
    "import pylab as plt\n",
    "from IPython.display import Latex"
   ]
  },
  {
   "cell_type": "code",
   "execution_count": null,
   "metadata": {
    "collapsed": false,
    "deletable": true,
    "editable": true
   },
   "outputs": [],
   "source": [
    "Latex(r\"\"\"\n",
    "\\begin{equation}\n",
    "B_{\\rho}=-\\frac{B_0}{\\sqrt{\\pi}} \\sum_{n=2}^{\\infty} \\frac{\\beta^{n-1}\\Gamma{\\left( n-\\frac{1}{2}\\right)}}{(n-1)!(2n-3)} \\frac{\\left(\\sqrt{z^2+\\rho^2}\\right)^{n}}{\\rho}\\left[ P_{n}\\left(\\frac{z}{\\sqrt{z^2+\\rho^2}}\\right)- \\frac{z}{\\sqrt{z^2+\\rho^2}} P_{n-1}\\left(\\frac{z}{\\sqrt{z^2+\\rho^2}}\\right) \\right]\n",
    "\\end{equation}\n",
    "\"\"\")"
   ]
  },
  {
   "cell_type": "code",
   "execution_count": null,
   "metadata": {
    "collapsed": false,
    "deletable": true,
    "editable": true,
    "scrolled": false
   },
   "outputs": [],
   "source": [
    "Latex(r\"\"\"\n",
    "\\begin{equation}\n",
    "B_{z}= (B_b + B_0) -\\frac{B_0}{\\sqrt{\\pi}} \\sum_{n=2}^{\\infty} \\frac{\\beta^{n-1}\\Gamma{\\left( n-\\frac{1}{2}\\right)}}{(n-1)!(2n-3)}  \\left(\\sqrt{z^2+\\rho^2}\\right)^{n-1} P_{n-1}\\left(\\frac{z}{\\sqrt{z^2+\\rho^2}}\\right) \n",
    "\\end{equation}\n",
    "\"\"\")"
   ]
  },
  {
   "cell_type": "code",
   "execution_count": null,
   "metadata": {
    "collapsed": false,
    "deletable": true,
    "editable": true
   },
   "outputs": [],
   "source": [
    "var('B_b B_0 beta rho z r theta')"
   ]
  },
  {
   "cell_type": "markdown",
   "metadata": {
    "deletable": true,
    "editable": true
   },
   "source": [
    "Cambiando $z$ por $x$ para evitar conflictos con lo anterior"
   ]
  },
  {
   "cell_type": "code",
   "execution_count": null,
   "metadata": {
    "collapsed": false,
    "deletable": true,
    "editable": true
   },
   "outputs": [],
   "source": [
    "Brhos=-((B_0)/sqrt(pi))*sum((( beta^(n-1)*gamma(n-1/2))/(factorial(n-1)*(2*n-3))*((((sqrt(x^2+rho^2))^(n))/(rho)))*(legendre_P(n,(x)/(sqrt(x^2+rho^2)))- ((x)/(sqrt(x^2+rho^2)))*legendre_P(n-1,(x)/(sqrt(x^2+rho^2))))) for n in [2..20] )"
   ]
  },
  {
   "cell_type": "code",
   "execution_count": null,
   "metadata": {
    "collapsed": false,
    "deletable": true,
    "editable": true
   },
   "outputs": [],
   "source": [
    "#Brhos"
   ]
  },
  {
   "cell_type": "markdown",
   "metadata": {
    "deletable": true,
    "editable": true
   },
   "source": [
    "## Graficando $B_{\\rho}$"
   ]
  },
  {
   "cell_type": "code",
   "execution_count": null,
   "metadata": {
    "collapsed": false,
    "deletable": true,
    "editable": true
   },
   "outputs": [],
   "source": [
    "Brhos_num=fast_callable(Brhos,vars=('B_0', 'beta','rho','x'))"
   ]
  },
  {
   "cell_type": "code",
   "execution_count": null,
   "metadata": {
    "collapsed": false,
    "deletable": true,
    "editable": true
   },
   "outputs": [],
   "source": [
    "x_vals=np.arange(0.2,2,0.001)\n",
    "Brhos_f=[Brhos_num(132.8,0.544,0.025,i) for i in x_vals]"
   ]
  },
  {
   "cell_type": "code",
   "execution_count": null,
   "metadata": {
    "collapsed": false,
    "deletable": true,
    "editable": true
   },
   "outputs": [],
   "source": [
    "plt.rc('axes', labelsize=20)\n",
    "plt.rc('xtick', labelsize=8)\n",
    "plt.rc('ytick', labelsize=8)\n",
    "\n",
    "\n",
    "plt.plot(x_vals,Brhos_f,color='red')\n",
    "plt.xlabel(r'$z$ [m]')\n",
    "#plt.xlim((0.2, 1.3))\n",
    "plt.ylabel(r'$B_{\\rho}$[mA] ')\n",
    "#plt.ylim((0, 130))\n",
    "plt.savefig('B_rho anali.png', format='png', dpi=1000)\n",
    "plt.show()"
   ]
  },
  {
   "cell_type": "markdown",
   "metadata": {
    "collapsed": true,
    "deletable": true,
    "editable": true
   },
   "source": [
    "Hay un problema como de unidades"
   ]
  },
  {
   "cell_type": "markdown",
   "metadata": {
    "deletable": true,
    "editable": true
   },
   "source": [
    "## Graficando $B_{z}$"
   ]
  },
  {
   "cell_type": "code",
   "execution_count": null,
   "metadata": {
    "collapsed": false,
    "deletable": true,
    "editable": true
   },
   "outputs": [],
   "source": [
    "Bzs=(B_b+B_0)-((B_0)/sqrt(pi))*sum(((beta^(n-1)*gamma(n-1/2))/(factorial(n-1)*(2*n-3)))*(((sqrt(x^2+rho^2))^(n-1)))*legendre_P(n-1,x/(sqrt(x^2+rho^2))) for n in [2..40])"
   ]
  },
  {
   "cell_type": "code",
   "execution_count": null,
   "metadata": {
    "collapsed": false,
    "deletable": true,
    "editable": true
   },
   "outputs": [],
   "source": [
    "#Bzs"
   ]
  },
  {
   "cell_type": "code",
   "execution_count": null,
   "metadata": {
    "collapsed": false,
    "deletable": true,
    "editable": true
   },
   "outputs": [],
   "source": [
    "Bzs_num=fast_callable(Bzs,vars=('B_b','B_0','beta','rho','x'))"
   ]
  },
  {
   "cell_type": "code",
   "execution_count": null,
   "metadata": {
    "collapsed": false,
    "deletable": true,
    "editable": true
   },
   "outputs": [],
   "source": [
    "x_vals1=np.arange(0.2,2,0.01)\n",
    "Bzs_f=[Bzs_num(27.6,132.8,0.544,0,i) for i in x_vals1]"
   ]
  },
  {
   "cell_type": "code",
   "execution_count": null,
   "metadata": {
    "collapsed": false,
    "deletable": true,
    "editable": true
   },
   "outputs": [],
   "source": [
    "plt.rc('axes', labelsize=20)\n",
    "plt.rc('xtick', labelsize=8)\n",
    "plt.rc('ytick', labelsize=8)\n",
    "\n",
    "\n",
    "plt.plot(x_vals1,Bzs_f,color='red')\n",
    "plt.xlabel(r'$z$ [m]')\n",
    "plt.xlim((0.2, 2))\n",
    "plt.ylabel(r'$B_z$ [mA] ')\n",
    "plt.ylim((0, 150))\n",
    "plt.savefig('B_z anali.png', format='png', dpi=1000)\n",
    "plt.show()"
   ]
  },
  {
   "cell_type": "markdown",
   "metadata": {
    "deletable": true,
    "editable": true
   },
   "source": [
    "Tampoco da"
   ]
  },
  {
   "cell_type": "code",
   "execution_count": null,
   "metadata": {
    "collapsed": true,
    "deletable": true,
    "editable": true
   },
   "outputs": [],
   "source": []
  }
 ],
 "metadata": {
  "kernelspec": {
   "display_name": "SageMath 8.1",
   "language": "",
   "name": "sagemath"
  },
  "language_info": {
   "codemirror_mode": {
    "name": "ipython",
    "version": 2
   },
   "file_extension": ".py",
   "mimetype": "text/x-python",
   "name": "python",
   "nbconvert_exporter": "python",
   "pygments_lexer": "ipython2",
   "version": "2.7.14"
  }
 },
 "nbformat": 4,
 "nbformat_minor": 2
}
