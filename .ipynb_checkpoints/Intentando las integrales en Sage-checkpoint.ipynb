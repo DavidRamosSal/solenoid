{
 "cells": [
  {
   "cell_type": "markdown",
   "metadata": {
    "deletable": true,
    "editable": true
   },
   "source": [
    "# Intentando Simbólicamente"
   ]
  },
  {
   "cell_type": "code",
   "execution_count": 2,
   "metadata": {
    "collapsed": false,
    "deletable": true,
    "editable": true
   },
   "outputs": [
    {
     "data": {
      "text/plain": [
       "(a, b, c)"
      ]
     },
     "execution_count": 2,
     "metadata": {},
     "output_type": "execute_result"
    }
   ],
   "source": [
    "var('a b c')"
   ]
  },
  {
   "cell_type": "code",
   "execution_count": 3,
   "metadata": {
    "collapsed": false,
    "deletable": true,
    "editable": true
   },
   "outputs": [
    {
     "data": {
      "text/plain": [
       "6.2832"
      ]
     },
     "execution_count": 3,
     "metadata": {},
     "output_type": "execute_result"
    }
   ],
   "source": [
    "integrate(cos(x)/(1^2+1^2+1^2-2*cos(x))^(1/2),(x,0,2*3.1416))"
   ]
  },
  {
   "cell_type": "markdown",
   "metadata": {
    "deletable": true,
    "editable": true
   },
   "source": [
    "RIP la simbólica"
   ]
  },
  {
   "cell_type": "markdown",
   "metadata": {
    "deletable": true,
    "editable": true
   },
   "source": [
    "# Intentando numéricamente"
   ]
  },
  {
   "cell_type": "code",
   "execution_count": 4,
   "metadata": {
    "collapsed": false,
    "deletable": true,
    "editable": true
   },
   "outputs": [
    {
     "data": {
      "text/plain": [
       "(0.7863649895644217, 2.957902513773982e-14)"
      ]
     },
     "execution_count": 4,
     "metadata": {},
     "output_type": "execute_result"
    }
   ],
   "source": [
    "numerical_integral(cos(x)/(1^2+1^2+1^2-2*cos(x))^(1/2),0,2*3.1416)"
   ]
  },
  {
   "cell_type": "markdown",
   "metadata": {
    "deletable": true,
    "editable": true
   },
   "source": [
    "Bien"
   ]
  },
  {
   "cell_type": "markdown",
   "metadata": {
    "deletable": true,
    "editable": true
   },
   "source": [
    "# Hallando el campo de un solenoide a la mala"
   ]
  },
  {
   "cell_type": "code",
   "execution_count": 5,
   "metadata": {
    "collapsed": true,
    "deletable": true,
    "editable": true
   },
   "outputs": [],
   "source": [
    "from IPython.display import Latex"
   ]
  },
  {
   "cell_type": "markdown",
   "metadata": {
    "deletable": true,
    "editable": true
   },
   "source": [
    "## El potencial vectorial magnético"
   ]
  },
  {
   "cell_type": "markdown",
   "metadata": {
    "deletable": true,
    "editable": true
   },
   "source": [
    "Hay varias formas de escribirlo que son útiles (ver artículo de la NASA https://ntrs.nasa.gov/archive/nasa/casi.ntrs.nasa.gov/19980227402.pdf).\n",
    "\n",
    "El de una espira en polares es"
   ]
  },
  {
   "cell_type": "code",
   "execution_count": 6,
   "metadata": {
    "collapsed": false,
    "deletable": true,
    "editable": true
   },
   "outputs": [
    {
     "data": {
      "text/latex": [
       "\n",
       "\\begin{equation}\n",
       "A_{\\phi}=\\frac{\\mu_0 R i}{4\\pi} \\int_{0}^{2\\pi} \\frac{\\cos{\\theta d\\theta}}{\\sqrt{z^2+\\rho^2+R^2-2\\rho R\\cos{\\theta}}}\n",
       "\\end{equation}\n"
      ],
      "text/plain": [
       "<IPython.core.display.Latex object>"
      ]
     },
     "execution_count": 6,
     "metadata": {},
     "output_type": "execute_result"
    }
   ],
   "source": [
    "Latex(r\"\"\"\n",
    "\\begin{equation}\n",
    "A_{\\phi}=\\frac{\\mu_0 R i}{4\\pi} \\int_{0}^{2\\pi} \\frac{\\cos{\\theta d\\theta}}{\\sqrt{z^2+\\rho^2+R^2-2\\rho R\\cos{\\theta}}}\n",
    "\\end{equation}\n",
    "\"\"\")"
   ]
  },
  {
   "cell_type": "markdown",
   "metadata": {
    "deletable": true,
    "editable": true
   },
   "source": [
    "Integrándolo para una densidad de espiras $\\frac{N}{L}$ y arreglando las variables da"
   ]
  },
  {
   "cell_type": "code",
   "execution_count": 7,
   "metadata": {
    "collapsed": false,
    "deletable": true,
    "editable": true
   },
   "outputs": [
    {
     "data": {
      "text/latex": [
       "\n",
       "\\begin{equation}\n",
       "A_{\\phi}=\\frac{\\mu_0 R i}{4\\pi} \\frac{N}{L} \\int_{h_{-}}^{h_{+}} \\left[ \\int_{0}^{2\\pi} \\frac{\\cos{\\theta d\\theta}}{\\sqrt{z^2+\\rho^2+R^2-2\\rho R\\cos{\\theta}}}\\right]dh\n",
       "\\end{equation}\n"
      ],
      "text/plain": [
       "<IPython.core.display.Latex object>"
      ]
     },
     "execution_count": 7,
     "metadata": {},
     "output_type": "execute_result"
    }
   ],
   "source": [
    "Latex(r\"\"\"\n",
    "\\begin{equation}\n",
    "A_{\\phi}=\\frac{\\mu_0 R i}{4\\pi} \\frac{N}{L} \\int_{h_{-}}^{h_{+}} \\left[ \\int_{0}^{2\\pi} \\frac{\\cos{\\theta d\\theta}}{\\sqrt{z^2+\\rho^2+R^2-2\\rho R\\cos{\\theta}}}\\right]dh\n",
    "\\end{equation}\n",
    "\"\"\")"
   ]
  },
  {
   "cell_type": "markdown",
   "metadata": {
    "deletable": true,
    "editable": true
   },
   "source": [
    "donde $h=z-l$  y   $h_{\\pm}=z\\pm\\frac{L}{2}$  ($z$ es la altura del punto de observación y $l$ es la de la espira)."
   ]
  },
  {
   "cell_type": "markdown",
   "metadata": {
    "deletable": true,
    "editable": true
   },
   "source": [
    "## El campo magnético"
   ]
  },
  {
   "cell_type": "markdown",
   "metadata": {
    "deletable": true,
    "editable": true
   },
   "source": [
    "$\\vec{B}=\\vec{\\nabla}\\times\\vec{A}$"
   ]
  },
  {
   "cell_type": "markdown",
   "metadata": {
    "deletable": true,
    "editable": true
   },
   "source": [
    "### El campo en $\\rho$"
   ]
  },
  {
   "cell_type": "markdown",
   "metadata": {
    "deletable": true,
    "editable": true
   },
   "source": [
    "Derivando y usando teorema fundamental de cálculo"
   ]
  },
  {
   "cell_type": "code",
   "execution_count": 8,
   "metadata": {
    "collapsed": false,
    "deletable": true,
    "editable": true
   },
   "outputs": [
    {
     "data": {
      "text/latex": [
       "\n",
       "\\begin{align}\n",
       "B_{\\rho}=&-\\frac{\\mu_0 R i}{4\\pi}\\frac{N}{L} \\int_{0}^{2\\pi}\\left[\\frac{\\cos{\\theta}}{\\sqrt{h^2+\\rho^2+R^2-2\\rho R\\cos{\\theta}}}\\right]_{h_{-}}^{h_{+}}d\\theta \\\\\n",
       "=&-\\frac{\\mu_0 R i}{4\\pi}\\frac{N}{L} \\int_{0}^{2\\pi} \\left[  \\frac{\\cos{\\theta}}{\\sqrt{h_{+}^{\\,\\,2}+\\rho^2+R^2-2\\rho R\\cos{\\theta}}} - \\frac{\\cos{\\theta}}{\\sqrt{h_{-}^{\\,\\,2}+\\rho^2+R^2-2\\rho R\\cos{\\theta}}} \\right]d\\theta\n",
       "\\end{align}\n",
       "\n"
      ],
      "text/plain": [
       "<IPython.core.display.Latex object>"
      ]
     },
     "execution_count": 8,
     "metadata": {},
     "output_type": "execute_result"
    }
   ],
   "source": [
    "Latex(r\"\"\"\n",
    "\\begin{align}\n",
    "B_{\\rho}=&-\\frac{\\mu_0 R i}{4\\pi}\\frac{N}{L} \\int_{0}^{2\\pi}\\left[\\frac{\\cos{\\theta}}{\\sqrt{h^2+\\rho^2+R^2-2\\rho R\\cos{\\theta}}}\\right]_{h_{-}}^{h_{+}}d\\theta \\\\\n",
    "=&-\\frac{\\mu_0 R i}{4\\pi}\\frac{N}{L} \\int_{0}^{2\\pi} \\left[  \\frac{\\cos{\\theta}}{\\sqrt{h_{+}^{\\,\\,2}+\\rho^2+R^2-2\\rho R\\cos{\\theta}}} - \\frac{\\cos{\\theta}}{\\sqrt{h_{-}^{\\,\\,2}+\\rho^2+R^2-2\\rho R\\cos{\\theta}}} \\right]d\\theta\n",
    "\\end{align}\n",
    "\n",
    "\"\"\")"
   ]
  },
  {
   "cell_type": "markdown",
   "metadata": {
    "deletable": true,
    "editable": true
   },
   "source": [
    "### El campo en $z$"
   ]
  },
  {
   "cell_type": "markdown",
   "metadata": {
    "deletable": true,
    "editable": true
   },
   "source": [
    "Este no me sale"
   ]
  },
  {
   "cell_type": "code",
   "execution_count": 9,
   "metadata": {
    "collapsed": false,
    "deletable": true,
    "editable": true
   },
   "outputs": [
    {
     "data": {
      "text/latex": [
       "\n",
       "\\begin{align}\n",
       "B_{z}=&\\frac{\\mu_0 R i}{4\\pi} \\frac{N}{L} \\int_{0}^{2\\pi} \\left[ \\frac{h(R-\\rho\\cos{\\theta})}{(\\rho^2+R^2-2\\rho R\\cos{\\theta})\\sqrt{h^2+\\rho^2+R^2-2\\rho R\\cos{\\theta}} } \\right]_{h_{-}}^{h_{+}}d\\theta \\\\\n",
       "=&\\frac{\\mu_0 R i}{4\\pi} \\frac{N}{L} \\int_{0}^{2\\pi} \\left[ \\frac{h_{+}(R-\\rho\\cos{\\theta})}{(\\rho^2+R^2-2\\rho R\\cos{\\theta})\\sqrt{h_{+}^{\\,\\,2}+\\rho^2+R^2-2\\rho R\\cos{\\theta}} } - \\frac{h_{-}(R-\\rho\\cos{\\theta})}{(\\rho^2+R^2-2\\rho R\\cos{\\theta})\\sqrt{h_{-}^{\\,\\,2}+\\rho^2+R^2-2\\rho R\\cos{\\theta}} } \\right] d\\theta\n",
       "\\end{align}\n"
      ],
      "text/plain": [
       "<IPython.core.display.Latex object>"
      ]
     },
     "execution_count": 9,
     "metadata": {},
     "output_type": "execute_result"
    }
   ],
   "source": [
    "Latex(r\"\"\"\n",
    "\\begin{align}\n",
    "B_{z}=&\\frac{\\mu_0 R i}{4\\pi} \\frac{N}{L} \\int_{0}^{2\\pi} \\left[ \\frac{h(R-\\rho\\cos{\\theta})}{(\\rho^2+R^2-2\\rho R\\cos{\\theta})\\sqrt{h^2+\\rho^2+R^2-2\\rho R\\cos{\\theta}} } \\right]_{h_{-}}^{h_{+}}d\\theta \\\\\n",
    "=&\\frac{\\mu_0 R i}{4\\pi} \\frac{N}{L} \\int_{0}^{2\\pi} \\left[ \\frac{h_{+}(R-\\rho\\cos{\\theta})}{(\\rho^2+R^2-2\\rho R\\cos{\\theta})\\sqrt{h_{+}^{\\,\\,2}+\\rho^2+R^2-2\\rho R\\cos{\\theta}} } - \\frac{h_{-}(R-\\rho\\cos{\\theta})}{(\\rho^2+R^2-2\\rho R\\cos{\\theta})\\sqrt{h_{-}^{\\,\\,2}+\\rho^2+R^2-2\\rho R\\cos{\\theta}} } \\right] d\\theta\n",
    "\\end{align}\n",
    "\"\"\")"
   ]
  },
  {
   "cell_type": "markdown",
   "metadata": {
    "deletable": true,
    "editable": true
   },
   "source": [
    "# Ahora sí el cálculo numérico"
   ]
  },
  {
   "cell_type": "markdown",
   "metadata": {
    "deletable": true,
    "editable": true
   },
   "source": [
    "Una forma"
   ]
  },
  {
   "cell_type": "code",
   "execution_count": 1,
   "metadata": {
    "collapsed": true,
    "deletable": true,
    "editable": true
   },
   "outputs": [],
   "source": [
    "import numpy as np"
   ]
  },
  {
   "cell_type": "code",
   "execution_count": 5,
   "metadata": {
    "collapsed": false,
    "deletable": true,
    "editable": true
   },
   "outputs": [],
   "source": [
    "z_vals=np.arange(-1,1,0.001)\n",
    "Brhoe=np.array([numerical_integral(-((1)*(1.25663)/(100*4*pi))*((cos(x))/(((z+1/2)^2+(0.08)^2+(0.1)^2-2*(0.08)*(0.1)*cos(x))^(1/2)) - (cos(x))/(((z-1/2)^2+(0.08)^2+(0.1)^2-2*(0.08)*(0.1)*cos(x))^(1/2)) ) , 0, 2*pi)[0] for z in z_vals])\n",
    "Bze=np.array([numerical_integral(((1.25663)/(100*4*pi))*((z+1/2)*(0.1-0.08*cos(x))/(((0.08)^2+(0.1)^2-2*(0.08)*(0.1)*cos(x))*((z+1/2)^2+(0.08)^2+(0.1)^2-2*(0.08)*(0.1)*cos(x))^(1/2)) - (z-1/2)*((0.1)-(0.08)*cos(x))/(((0.08)^2+(0.1)^2-2*(0.08)*(0.1)*cos(x))*((z-1/2)^2+(0.08)^2+(0.1)^2-2*(0.08)*(0.1)*cos(x))^(1/2))), 0, 2*pi) for z in z_vals])"
   ]
  },
  {
   "cell_type": "markdown",
   "metadata": {
    "deletable": true,
    "editable": true
   },
   "source": [
    "# Graficando "
   ]
  },
  {
   "cell_type": "code",
   "execution_count": 3,
   "metadata": {
    "collapsed": false,
    "deletable": true,
    "editable": true
   },
   "outputs": [],
   "source": [
    "import pylab as plt"
   ]
  },
  {
   "cell_type": "markdown",
   "metadata": {
    "deletable": true,
    "editable": true
   },
   "source": [
    "Para $B_{\\rho}$"
   ]
  },
  {
   "cell_type": "code",
   "execution_count": 13,
   "metadata": {
    "collapsed": false,
    "deletable": true,
    "editable": true,
    "scrolled": false
   },
   "outputs": [
    {
     "data": {
      "image/png": "[encoded data removed]",
      "text/plain": [
       "<matplotlib.figure.Figure object at 0x7f96de32d310>"
      ]
     },
     "metadata": {},
     "output_type": "display_data"
    }
   ],
   "source": [
    "plt.rc('axes', labelsize=20)\n",
    "plt.rc('xtick', labelsize=8)\n",
    "plt.rc('ytick', labelsize=8)\n",
    "\n",
    "\n",
    "plt.plot(z_vals,Brhoe,linewidth=1.2)\n",
    "plt.xlabel(r'$z$ [m]')\n",
    "plt.ylabel(r'$B_{\\rho}$ [mT]')\n",
    "plt.savefig('Brho_exacto.png', format='png', dpi=1000)\n",
    "plt.show()"
   ]
  },
  {
   "cell_type": "markdown",
   "metadata": {},
   "source": [
    "Aumentando las espiras"
   ]
  },
  {
   "cell_type": "code",
   "execution_count": 6,
   "metadata": {
    "collapsed": false
   },
   "outputs": [
    {
     "data": {
      "image/png": "[encoded data removed]",
      "text/plain": [
       "<matplotlib.figure.Figure object at 0x7f37f0fc20d0>"
      ]
     },
     "metadata": {},
     "output_type": "display_data"
    }
   ],
   "source": [
    "plt.rc('axes', labelsize=20)\n",
    "plt.rc('xtick', labelsize=8)\n",
    "plt.rc('ytick', labelsize=8)\n",
    "\n",
    "\n",
    "plt.plot(z_vals,Brhoe*100,linewidth=1.2)\n",
    "plt.xlabel(r'$z$ [m]')\n",
    "plt.ylabel(r'$B_{\\rho}$ [mT]')\n",
    "plt.savefig('Brho_exacto N2.png', format='png', dpi=1000)\n",
    "plt.show()"
   ]
  },
  {
   "cell_type": "markdown",
   "metadata": {
    "collapsed": true,
    "deletable": true,
    "editable": true
   },
   "source": [
    "# Para $B_{z}$"
   ]
  },
  {
   "cell_type": "code",
   "execution_count": 14,
   "metadata": {
    "collapsed": false,
    "deletable": true,
    "editable": true
   },
   "outputs": [
    {
     "data": {
      "image/png": "[encoded data removed]",
      "text/plain": [
       "<matplotlib.figure.Figure object at 0x7f96de31f990>"
      ]
     },
     "metadata": {},
     "output_type": "display_data"
    }
   ],
   "source": [
    "plt.plot(z_vals,Bze,linewidth=1.2)\n",
    "plt.xlabel(r'$z$ [m]')\n",
    "plt.ylabel(r'$B_{z}$ [mT]')\n",
    "plt.savefig('Bz_exacto.png', format='png', dpi=1000)\n",
    "plt.show()"
   ]
  }
 ],
 "metadata": {
  "kernelspec": {
   "display_name": "SageMath 8.1",
   "language": "",
   "name": "sagemath"
  },
  "language_info": {
   "codemirror_mode": {
    "name": "ipython",
    "version": 2
   },
   "file_extension": ".py",
   "mimetype": "text/x-python",
   "name": "python",
   "nbconvert_exporter": "python",
   "pygments_lexer": "ipython2",
   "version": "2.7.14"
  }
 },
 "nbformat": 4,
 "nbformat_minor": 2
}
