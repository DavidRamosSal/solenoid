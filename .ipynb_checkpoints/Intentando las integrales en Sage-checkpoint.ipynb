{
 "cells": [
  {
   "cell_type": "markdown",
   "metadata": {
    "deletable": true,
    "editable": true
   },
   "source": [
    "# Intentando Simbólicamente"
   ]
  },
  {
   "cell_type": "code",
   "execution_count": 5,
   "metadata": {
    "collapsed": false,
    "deletable": true,
    "editable": true
   },
   "outputs": [
    {
     "data": {
      "text/plain": [
       "(a, b, c)"
      ]
     },
     "execution_count": 5,
     "metadata": {},
     "output_type": "execute_result"
    }
   ],
   "source": [
    "var('a b c')"
   ]
  },
  {
   "cell_type": "code",
   "execution_count": 14,
   "metadata": {
    "collapsed": false,
    "deletable": true,
    "editable": true
   },
   "outputs": [
    {
     "data": {
      "text/plain": [
       "6.2832"
      ]
     },
     "execution_count": 14,
     "metadata": {},
     "output_type": "execute_result"
    }
   ],
   "source": [
    "integrate(cos(x)/(1^2+1^2+1^2-2*cos(x))^(1/2),(x,0,2*3.1416))"
   ]
  },
  {
   "cell_type": "markdown",
   "metadata": {
    "deletable": true,
    "editable": true
   },
   "source": [
    "RIP la simbólica"
   ]
  },
  {
   "cell_type": "markdown",
   "metadata": {
    "deletable": true,
    "editable": true
   },
   "source": [
    "# Intentando numéricamente"
   ]
  },
  {
   "cell_type": "code",
   "execution_count": 13,
   "metadata": {
    "collapsed": false,
    "deletable": true,
    "editable": true
   },
   "outputs": [
    {
     "data": {
      "text/plain": [
       "(0.7863649895644217, 2.957902513773982e-14)"
      ]
     },
     "execution_count": 13,
     "metadata": {},
     "output_type": "execute_result"
    }
   ],
   "source": [
    "numerical_integral(cos(x)/(1^2+1^2+1^2-2*cos(x))^(1/2),0,2*3.1416)"
   ]
  },
  {
   "cell_type": "markdown",
   "metadata": {
    "deletable": true,
    "editable": true
   },
   "source": [
    "Bien"
   ]
  },
  {
   "cell_type": "markdown",
   "metadata": {
    "deletable": true,
    "editable": true
   },
   "source": [
    "# Hallando el campo de un solenoide a la mala"
   ]
  },
  {
   "cell_type": "code",
   "execution_count": 2,
   "metadata": {
    "collapsed": true
   },
   "outputs": [],
   "source": [
    "from IPython.display import Latex"
   ]
  },
  {
   "cell_type": "markdown",
   "metadata": {
    "deletable": true,
    "editable": true
   },
   "source": [
    "## El potencial vectorial magnético"
   ]
  },
  {
   "cell_type": "markdown",
   "metadata": {
    "deletable": true,
    "editable": true
   },
   "source": [
    "Hay varias formas de escribirlo que son útiles (ver artículo de la NASA https://ntrs.nasa.gov/archive/nasa/casi.ntrs.nasa.gov/19980227402.pdf).\n",
    "\n",
    "El de una espira en polares es"
   ]
  },
  {
   "cell_type": "code",
   "execution_count": 3,
   "metadata": {
    "collapsed": false,
    "deletable": true,
    "editable": true
   },
   "outputs": [
    {
     "data": {
      "text/latex": [
       "\n",
       "\\begin{equation}\n",
       "A_{\\phi}=\\frac{\\mu_0 R i}{4\\pi} \\int_{0}^{2\\pi} \\frac{\\cos{\\theta d\\theta}}{\\sqrt{z^2+\\rho^2+R^2-2\\rho R\\cos{\\theta}}}\n",
       "\\end{equation}\n"
      ],
      "text/plain": [
       "<IPython.core.display.Latex object>"
      ]
     },
     "execution_count": 3,
     "metadata": {},
     "output_type": "execute_result"
    }
   ],
   "source": [
    "Latex(r\"\"\"\n",
    "\\begin{equation}\n",
    "A_{\\phi}=\\frac{\\mu_0 R i}{4\\pi} \\int_{0}^{2\\pi} \\frac{\\cos{\\theta d\\theta}}{\\sqrt{z^2+\\rho^2+R^2-2\\rho R\\cos{\\theta}}}\n",
    "\\end{equation}\n",
    "\"\"\")"
   ]
  },
  {
   "cell_type": "markdown",
   "metadata": {
    "deletable": true,
    "editable": true
   },
   "source": [
    "Integrándolo para una densidad de espiras $\\frac{N}{L}$ y arreglando las variables da"
   ]
  },
  {
   "cell_type": "code",
   "execution_count": 4,
   "metadata": {
    "collapsed": false,
    "deletable": true,
    "editable": true
   },
   "outputs": [
    {
     "data": {
      "text/latex": [
       "\n",
       "\\begin{equation}\n",
       "A_{\\phi}=\\frac{\\mu_0 R i}{4\\pi} \\frac{N}{L} \\int_{h_{-}}^{h_{+}} \\left[ \\int_{0}^{2\\pi} \\frac{\\cos{\\theta d\\theta}}{\\sqrt{z^2+\\rho^2+R^2-2\\rho R\\cos{\\theta}}}\\right]dh\n",
       "\\end{equation}\n"
      ],
      "text/plain": [
       "<IPython.core.display.Latex object>"
      ]
     },
     "execution_count": 4,
     "metadata": {},
     "output_type": "execute_result"
    }
   ],
   "source": [
    "Latex(r\"\"\"\n",
    "\\begin{equation}\n",
    "A_{\\phi}=\\frac{\\mu_0 R i}{4\\pi} \\frac{N}{L} \\int_{h_{-}}^{h_{+}} \\left[ \\int_{0}^{2\\pi} \\frac{\\cos{\\theta d\\theta}}{\\sqrt{z^2+\\rho^2+R^2-2\\rho R\\cos{\\theta}}}\\right]dh\n",
    "\\end{equation}\n",
    "\"\"\")"
   ]
  },
  {
   "cell_type": "markdown",
   "metadata": {
    "deletable": true,
    "editable": true
   },
   "source": [
    "donde $h=z-l$  y   $h_{\\pm}=z\\pm\\frac{L}{2}$  ($z$ es la altura del punto de observación y $l$ es la de la espira)."
   ]
  },
  {
   "cell_type": "markdown",
   "metadata": {
    "deletable": true,
    "editable": true
   },
   "source": [
    "## El campo magnético"
   ]
  },
  {
   "cell_type": "markdown",
   "metadata": {},
   "source": [
    "$\\vec{B}=\\vec{\\nabla}\\times\\vec{A}$"
   ]
  },
  {
   "cell_type": "markdown",
   "metadata": {
    "deletable": true,
    "editable": true
   },
   "source": [
    "### El campo en $\\rho$"
   ]
  },
  {
   "cell_type": "markdown",
   "metadata": {},
   "source": [
    "Derivando y usando teorema fundamental de cálculo"
   ]
  },
  {
   "cell_type": "code",
   "execution_count": 8,
   "metadata": {
    "collapsed": false,
    "deletable": true,
    "editable": true
   },
   "outputs": [
    {
     "data": {
      "text/latex": [
       "\n",
       "\\begin{align}\n",
       "B_{\\rho}=&-\\frac{\\mu_0 R i}{4\\pi}\\frac{N}{L} \\int_{0}^{2\\pi}\\left[\\frac{\\cos{\\theta}}{\\sqrt{h^2+\\rho^2+R^2-2\\rho R\\cos{\\theta}}}\\right]_{h_{-}}^{h_{+}}d\\theta \\\\\n",
       "=&-\\frac{\\mu_0 R i}{4\\pi}\\frac{N}{L} \\int_{0}^{2\\pi} \\left[  \\frac{\\cos{\\theta}}{\\sqrt{h_{+}^{\\,\\,2}+\\rho^2+R^2-2\\rho R\\cos{\\theta}}} - \\frac{\\cos{\\theta}}{\\sqrt{h_{-}^{\\,\\,2}+\\rho^2+R^2-2\\rho R\\cos{\\theta}}} \\right]d\\theta\n",
       "\\end{align}\n",
       "\n"
      ],
      "text/plain": [
       "<IPython.core.display.Latex object>"
      ]
     },
     "execution_count": 8,
     "metadata": {},
     "output_type": "execute_result"
    }
   ],
   "source": [
    "Latex(r\"\"\"\n",
    "\\begin{align}\n",
    "B_{\\rho}=&-\\frac{\\mu_0 R i}{4\\pi}\\frac{N}{L} \\int_{0}^{2\\pi}\\left[\\frac{\\cos{\\theta}}{\\sqrt{h^2+\\rho^2+R^2-2\\rho R\\cos{\\theta}}}\\right]_{h_{-}}^{h_{+}}d\\theta \\\\\n",
    "=&-\\frac{\\mu_0 R i}{4\\pi}\\frac{N}{L} \\int_{0}^{2\\pi} \\left[  \\frac{\\cos{\\theta}}{\\sqrt{h_{+}^{\\,\\,2}+\\rho^2+R^2-2\\rho R\\cos{\\theta}}} - \\frac{\\cos{\\theta}}{\\sqrt{h_{-}^{\\,\\,2}+\\rho^2+R^2-2\\rho R\\cos{\\theta}}} \\right]d\\theta\n",
    "\\end{align}\n",
    "\n",
    "\"\"\")"
   ]
  },
  {
   "cell_type": "markdown",
   "metadata": {
    "deletable": true,
    "editable": true
   },
   "source": [
    "### El campo en $z$"
   ]
  },
  {
   "cell_type": "markdown",
   "metadata": {
    "deletable": true,
    "editable": true
   },
   "source": [
    "Este no me sale"
   ]
  },
  {
   "cell_type": "code",
   "execution_count": 64,
   "metadata": {
    "collapsed": false,
    "deletable": true,
    "editable": true
   },
   "outputs": [
    {
     "data": {
      "text/latex": [
       "\n",
       "\\begin{align}\n",
       "B_{z}=&\\frac{\\mu_0 R i}{4\\pi} \\frac{N}{L} \\int_{0}^{2\\pi} \\left[ \\frac{h(a-r\\cos{\\theta})}{(\\rho^2+R^2-2\\rho R\\cos{\\theta})\\sqrt{h^2+\\rho^2+R^2-2\\rho R\\cos{\\theta}} } \\right]_{h_{-}}^{h_{+}}d\\theta \\\\\n",
       "=&\\frac{\\mu_0 R i}{4\\pi} \\frac{N}{L} \\int_{0}^{2\\pi} \\left[ \\frac{h_{+}(a-r\\cos{\\theta})}{(\\rho^2+R^2-2\\rho R\\cos{\\theta})\\sqrt{h_{+}^{\\,\\,2}+\\rho^2+R^2-2\\rho R\\cos{\\theta}} } - \\frac{h_{-}(a-r\\cos{\\theta})}{(\\rho^2+R^2-2\\rho R\\cos{\\theta})\\sqrt{h_{-}^{\\,\\,2}+\\rho^2+R^2-2\\rho R\\cos{\\theta}} } \\right] d\\theta\n",
       "\\end{align}\n"
      ],
      "text/plain": [
       "<IPython.core.display.Latex object>"
      ]
     },
     "execution_count": 64,
     "metadata": {},
     "output_type": "execute_result"
    }
   ],
   "source": [
    "Latex(r\"\"\"\n",
    "\\begin{align}\n",
    "B_{z}=&\\frac{\\mu_0 R i}{4\\pi} \\frac{N}{L} \\int_{0}^{2\\pi} \\left[ \\frac{h(a-r\\cos{\\theta})}{(\\rho^2+R^2-2\\rho R\\cos{\\theta})\\sqrt{h^2+\\rho^2+R^2-2\\rho R\\cos{\\theta}} } \\right]_{h_{-}}^{h_{+}}d\\theta \\\\\n",
    "=&\\frac{\\mu_0 R i}{4\\pi} \\frac{N}{L} \\int_{0}^{2\\pi} \\left[ \\frac{h_{+}(a-r\\cos{\\theta})}{(\\rho^2+R^2-2\\rho R\\cos{\\theta})\\sqrt{h_{+}^{\\,\\,2}+\\rho^2+R^2-2\\rho R\\cos{\\theta}} } - \\frac{h_{-}(a-r\\cos{\\theta})}{(\\rho^2+R^2-2\\rho R\\cos{\\theta})\\sqrt{h_{-}^{\\,\\,2}+\\rho^2+R^2-2\\rho R\\cos{\\theta}} } \\right] d\\theta\n",
    "\\end{align}\n",
    "\"\"\")"
   ]
  },
  {
   "cell_type": "markdown",
   "metadata": {
    "deletable": true,
    "editable": true
   },
   "source": [
    "# Ahora sí el cálculo numérico"
   ]
  },
  {
   "cell_type": "code",
   "execution_count": null,
   "metadata": {
    "collapsed": true,
    "deletable": true,
    "editable": true
   },
   "outputs": [],
   "source": []
  }
 ],
 "metadata": {
  "kernelspec": {
   "display_name": "SageMath 8.1",
   "language": "",
   "name": "sagemath"
  },
  "language_info": {
   "codemirror_mode": {
    "name": "ipython",
    "version": 2
   },
   "file_extension": ".py",
   "mimetype": "text/x-python",
   "name": "python",
   "nbconvert_exporter": "python",
   "pygments_lexer": "ipython2",
   "version": "2.7.14"
  }
 },
 "nbformat": 4,
 "nbformat_minor": 2
}
