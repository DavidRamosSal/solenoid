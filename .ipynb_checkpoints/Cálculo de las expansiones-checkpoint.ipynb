{
 "cells": [
  {
   "cell_type": "code",
   "execution_count": 1,
   "metadata": {
    "collapsed": true,
    "deletable": true,
    "editable": true
   },
   "outputs": [],
   "source": [
    "%display latex"
   ]
  },
  {
   "cell_type": "markdown",
   "metadata": {
    "deletable": true,
    "editable": true
   },
   "source": [
    "# Solenoide"
   ]
  },
  {
   "cell_type": "code",
   "execution_count": 21,
   "metadata": {
    "collapsed": false,
    "deletable": true,
    "editable": true
   },
   "outputs": [
    {
     "data": {
      "text/html": [
       "<html><script type=\"math/tex; mode=display\">\\newcommand{\\Bold}[1]{\\mathbf{#1}}\\left(z, a, L, R, r, \\theta\\right)</script></html>"
      ],
      "text/plain": [
       "(z, a, L, R, r, theta)"
      ]
     },
     "execution_count": 21,
     "metadata": {},
     "output_type": "execute_result"
    }
   ],
   "source": [
    "var('z a L R r theta') "
   ]
  },
  {
   "cell_type": "code",
   "execution_count": 3,
   "metadata": {
    "collapsed": true,
    "deletable": true,
    "editable": true
   },
   "outputs": [],
   "source": [
    "Bz=a*((z+L/2)/(sqrt(R^2+(z+L/2)^2))-(z-L/2)/(sqrt(R^2+(z-L/2)^2)))"
   ]
  },
  {
   "cell_type": "code",
   "execution_count": 4,
   "metadata": {
    "collapsed": false,
    "deletable": true,
    "editable": true
   },
   "outputs": [],
   "source": [
    "phiz=-Bz.integral(z)\n",
    "#phiz=phiz.simplify_full()"
   ]
  },
  {
   "cell_type": "code",
   "execution_count": 5,
   "metadata": {
    "collapsed": false,
    "deletable": true,
    "editable": true
   },
   "outputs": [],
   "source": [
    "phizt=phiz.taylor(z,0,25)"
   ]
  },
  {
   "cell_type": "code",
   "execution_count": 6,
   "metadata": {
    "collapsed": false,
    "deletable": true,
    "editable": true
   },
   "outputs": [
    {
     "data": {
      "text/html": [
       "<html><script type=\"math/tex; mode=display\">\\newcommand{\\Bold}[1]{\\mathbf{#1}}-\\frac{2 \\, L a}{\\sqrt{L^{2} + 4 \\, R^{2}}}</script></html>"
      ],
      "text/plain": [
       "-2*L*a/sqrt(L^2 + 4*R^2)"
      ]
     },
     "execution_count": 6,
     "metadata": {},
     "output_type": "execute_result"
    }
   ],
   "source": [
    "phizt.coefficient(z,1)"
   ]
  },
  {
   "cell_type": "code",
   "execution_count": 7,
   "metadata": {
    "collapsed": false,
    "deletable": true,
    "editable": true,
    "scrolled": true
   },
   "outputs": [
    {
     "data": {
      "text/html": [
       "<html><script type=\"math/tex; mode=display\">\\newcommand{\\Bold}[1]{\\mathbf{#1}}\\frac{1048576 \\, {\\left(\\sqrt{L^{2} + 4 \\, R^{2}} L^{17} R^{2} - 136 \\, \\sqrt{L^{2} + 4 \\, R^{2}} L^{15} R^{4} + 4760 \\, \\sqrt{L^{2} + 4 \\, R^{2}} L^{13} R^{6} - 61880 \\, \\sqrt{L^{2} + 4 \\, R^{2}} L^{11} R^{8} + 340340 \\, \\sqrt{L^{2} + 4 \\, R^{2}} L^{9} R^{10} - 816816 \\, \\sqrt{L^{2} + 4 \\, R^{2}} L^{7} R^{12} + 816816 \\, \\sqrt{L^{2} + 4 \\, R^{2}} L^{5} R^{14} - 291720 \\, \\sqrt{L^{2} + 4 \\, R^{2}} L^{3} R^{16} + 24310 \\, \\sqrt{L^{2} + 4 \\, R^{2}} L R^{18}\\right)} a}{L^{38} + 76 \\, L^{36} R^{2} + 2736 \\, L^{34} R^{4} + 62016 \\, L^{32} R^{6} + 992256 \\, L^{30} R^{8} + 11907072 \\, L^{28} R^{10} + 111132672 \\, L^{26} R^{12} + 825556992 \\, L^{24} R^{14} + 4953341952 \\, L^{22} R^{16} + 24216338432 \\, L^{20} R^{18} + 96865353728 \\, L^{18} R^{20} + 317013884928 \\, L^{16} R^{22} + 845370359808 \\, L^{14} R^{24} + 1820797698048 \\, L^{12} R^{26} + 3121367482368 \\, L^{10} R^{28} + 4161823309824 \\, L^{8} R^{30} + 4161823309824 \\, L^{6} R^{32} + 2937757630464 \\, L^{4} R^{34} + 1305670057984 \\, L^{2} R^{36} + 274877906944 \\, R^{38}}</script></html>"
      ],
      "text/plain": [
       "1048576*(sqrt(L^2 + 4*R^2)*L^17*R^2 - 136*sqrt(L^2 + 4*R^2)*L^15*R^4 + 4760*sqrt(L^2 + 4*R^2)*L^13*R^6 - 61880*sqrt(L^2 + 4*R^2)*L^11*R^8 + 340340*sqrt(L^2 + 4*R^2)*L^9*R^10 - 816816*sqrt(L^2 + 4*R^2)*L^7*R^12 + 816816*sqrt(L^2 + 4*R^2)*L^5*R^14 - 291720*sqrt(L^2 + 4*R^2)*L^3*R^16 + 24310*sqrt(L^2 + 4*R^2)*L*R^18)*a/(L^38 + 76*L^36*R^2 + 2736*L^34*R^4 + 62016*L^32*R^6 + 992256*L^30*R^8 + 11907072*L^28*R^10 + 111132672*L^26*R^12 + 825556992*L^24*R^14 + 4953341952*L^22*R^16 + 24216338432*L^20*R^18 + 96865353728*L^18*R^20 + 317013884928*L^16*R^22 + 845370359808*L^14*R^24 + 1820797698048*L^12*R^26 + 3121367482368*L^10*R^28 + 4161823309824*L^8*R^30 + 4161823309824*L^6*R^32 + 2937757630464*L^4*R^34 + 1305670057984*L^2*R^36 + 274877906944*R^38)"
      ]
     },
     "execution_count": 7,
     "metadata": {},
     "output_type": "execute_result"
    }
   ],
   "source": [
    "phizt.coefficient(z,19)"
   ]
  },
  {
   "cell_type": "code",
   "execution_count": null,
   "metadata": {
    "collapsed": true
   },
   "outputs": [],
   "source": []
  },
  {
   "cell_type": "markdown",
   "metadata": {
    "collapsed": true,
    "deletable": true,
    "editable": true
   },
   "source": [
    "# Enfriador"
   ]
  },
  {
   "cell_type": "code",
   "execution_count": 13,
   "metadata": {
    "collapsed": false,
    "deletable": true,
    "editable": true
   },
   "outputs": [
    {
     "data": {
      "text/html": [
       "<html><script type=\"math/tex; mode=display\">\\newcommand{\\Bold}[1]{\\mathbf{#1}}\\left(B_{b}, B_{0}, \\beta\\right)</script></html>"
      ],
      "text/plain": [
       "(B_b, B0, beta)"
      ]
     },
     "execution_count": 13,
     "metadata": {},
     "output_type": "execute_result"
    }
   ],
   "source": [
    "var('B_b B0 beta')"
   ]
  },
  {
   "cell_type": "code",
   "execution_count": 15,
   "metadata": {
    "collapsed": false,
    "deletable": true,
    "editable": true
   },
   "outputs": [
    {
     "data": {
      "text/html": [
       "<html><script type=\"math/tex; mode=display\">\\newcommand{\\Bold}[1]{\\mathbf{#1}}-B_{b} z + \\frac{2 \\, {\\left(-\\beta z + 1\\right)}^{\\frac{3}{2}} B_{0}}{3 \\, \\beta}</script></html>"
      ],
      "text/plain": [
       "-B_b*z + 2/3*(-beta*z + 1)^(3/2)*B0/beta"
      ]
     },
     "execution_count": 15,
     "metadata": {},
     "output_type": "execute_result"
    }
   ],
   "source": [
    "phiez=-B_b*z+(2/3)*(B0/beta)*(1-beta*z)^(3/2)\n",
    "phiez"
   ]
  },
  {
   "cell_type": "code",
   "execution_count": 16,
   "metadata": {
    "collapsed": false,
    "deletable": true,
    "editable": true,
    "scrolled": true
   },
   "outputs": [
    {
     "data": {
      "text/html": [
       "<html><script type=\"math/tex; mode=display\">\\newcommand{\\Bold}[1]{\\mathbf{#1}}\\frac{3811773485}{35184372088832} \\, B_{0} \\beta^{23} z^{24} + \\frac{265937685}{2199023255552} \\, B_{0} \\beta^{22} z^{23} + \\frac{149184555}{1099511627776} \\, B_{0} \\beta^{21} z^{22} + \\frac{42077695}{274877906944} \\, B_{0} \\beta^{20} z^{21} + \\frac{23881935}{137438953472} \\, B_{0} \\beta^{19} z^{20} + \\frac{3411705}{17179869184} \\, B_{0} \\beta^{18} z^{19} + \\frac{1964315}{8589934592} \\, B_{0} \\beta^{17} z^{18} + \\frac{570285}{2147483648} \\, B_{0} \\beta^{16} z^{17} + \\frac{334305}{1073741824} \\, B_{0} \\beta^{15} z^{16} + \\frac{37145}{100663296} \\, B_{0} \\beta^{14} z^{15} + \\frac{7429}{16777216} \\, B_{0} \\beta^{13} z^{14} + \\frac{2261}{4194304} \\, B_{0} \\beta^{12} z^{13} + \\frac{4199}{6291456} \\, B_{0} \\beta^{11} z^{12} + \\frac{221}{262144} \\, B_{0} \\beta^{10} z^{11} + \\frac{143}{131072} \\, B_{0} \\beta^{9} z^{10} + \\frac{143}{98304} \\, B_{0} \\beta^{8} z^{9} + \\frac{33}{16384} \\, B_{0} \\beta^{7} z^{8} + \\frac{3}{1024} \\, B_{0} \\beta^{6} z^{7} + \\frac{7}{1536} \\, B_{0} \\beta^{5} z^{6} + \\frac{1}{128} \\, B_{0} \\beta^{4} z^{5} + \\frac{1}{64} \\, B_{0} \\beta^{3} z^{4} + \\frac{1}{24} \\, B_{0} \\beta^{2} z^{3} + \\frac{1}{4} \\, B_{0} \\beta z^{2} - {\\left(B_{0} + B_{b}\\right)} z + \\frac{2 \\, B_{0}}{3 \\, \\beta}</script></html>"
      ],
      "text/plain": [
       "3811773485/35184372088832*B0*beta^23*z^24 + 265937685/2199023255552*B0*beta^22*z^23 + 149184555/1099511627776*B0*beta^21*z^22 + 42077695/274877906944*B0*beta^20*z^21 + 23881935/137438953472*B0*beta^19*z^20 + 3411705/17179869184*B0*beta^18*z^19 + 1964315/8589934592*B0*beta^17*z^18 + 570285/2147483648*B0*beta^16*z^17 + 334305/1073741824*B0*beta^15*z^16 + 37145/100663296*B0*beta^14*z^15 + 7429/16777216*B0*beta^13*z^14 + 2261/4194304*B0*beta^12*z^13 + 4199/6291456*B0*beta^11*z^12 + 221/262144*B0*beta^10*z^11 + 143/131072*B0*beta^9*z^10 + 143/98304*B0*beta^8*z^9 + 33/16384*B0*beta^7*z^8 + 3/1024*B0*beta^6*z^7 + 7/1536*B0*beta^5*z^6 + 1/128*B0*beta^4*z^5 + 1/64*B0*beta^3*z^4 + 1/24*B0*beta^2*z^3 + 1/4*B0*beta*z^2 - (B0 + B_b)*z + 2/3*B0/beta"
      ]
     },
     "execution_count": 16,
     "metadata": {},
     "output_type": "execute_result"
    }
   ],
   "source": [
    "phiezt=phiez.taylor(z,0,24)\n",
    "phiezt"
   ]
  },
  {
   "cell_type": "markdown",
   "metadata": {},
   "source": [
    "Lo ideal sería hacer todas las expansiones dentro de Sage"
   ]
  },
  {
   "cell_type": "markdown",
   "metadata": {},
   "source": [
    "## Herramientas"
   ]
  },
  {
   "cell_type": "markdown",
   "metadata": {},
   "source": [
    "### Polinomios de Legendre"
   ]
  },
  {
   "cell_type": "code",
   "execution_count": 20,
   "metadata": {
    "collapsed": false
   },
   "outputs": [
    {
     "data": {
      "text/html": [
       "<html><script type=\"math/tex; mode=display\">\\newcommand{\\Bold}[1]{\\mathbf{#1}}\\frac{3}{2} \\, \\cos\\left(\\theta\\right)^{2} - \\frac{1}{2}</script></html>"
      ],
      "text/plain": [
       "3/2*cos(theta)^2 - 1/2"
      ]
     },
     "execution_count": 20,
     "metadata": {},
     "output_type": "execute_result"
    }
   ],
   "source": [
    "legendre_P(2,cos(theta))"
   ]
  },
  {
   "cell_type": "markdown",
   "metadata": {},
   "source": [
    "### Sumas"
   ]
  },
  {
   "cell_type": "code",
   "execution_count": 19,
   "metadata": {
    "collapsed": false
   },
   "outputs": [
    {
     "data": {
      "text/html": [
       "<html><script type=\"math/tex; mode=display\">\\newcommand{\\Bold}[1]{\\mathbf{#1}}\\frac{135}{2} \\, \\cos\\left(\\theta\\right)^{3} + 12 \\, \\cos\\left(\\theta\\right)^{2} - \\frac{79}{2} \\, \\cos\\left(\\theta\\right) - 4</script></html>"
      ],
      "text/plain": [
       "135/2*cos(theta)^3 + 12*cos(theta)^2 - 79/2*cos(theta) - 4"
      ]
     },
     "execution_count": 19,
     "metadata": {},
     "output_type": "execute_result"
    }
   ],
   "source": [
    "var('i')\n",
    "sum(i^3*legendre_P(i,cos(theta)),i,0,3)"
   ]
  },
  {
   "cell_type": "markdown",
   "metadata": {},
   "source": [
    "Ahora intentar unir los coeficientes de las expansiones con los polinomios de Legendre:\n",
    "$$ \\phi_{M} (r,\\theta)=a_{0}+a_{1}rP_{1}(\\cos{\\theta}) +a_{2}r^2 P_{2}(\\cos{\\theta}) + ... $$"
   ]
  },
  {
   "cell_type": "code",
   "execution_count": null,
   "metadata": {
    "collapsed": true
   },
   "outputs": [],
   "source": [
    "Phi="
   ]
  }
 ],
 "metadata": {
  "kernelspec": {
   "display_name": "SageMath 8.1",
   "language": "",
   "name": "sagemath"
  },
  "language_info": {
   "codemirror_mode": {
    "name": "ipython",
    "version": 2
   },
   "file_extension": ".py",
   "mimetype": "text/x-python",
   "name": "python",
   "nbconvert_exporter": "python",
   "pygments_lexer": "ipython2",
   "version": "2.7.14"
  }
 },
 "nbformat": 4,
 "nbformat_minor": 2
}
